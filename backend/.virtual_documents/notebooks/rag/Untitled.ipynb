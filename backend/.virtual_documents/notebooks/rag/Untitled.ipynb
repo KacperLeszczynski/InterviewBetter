import time
import openai
from sentence_transformers import SentenceTransformer
import torch
from dotenv import load_dotenv
import os
import pandas as pd
import pandas.io.formats.style


text = "Large language models are transforming natural language processing."

models = {
    "OpenAI ada-002": {
        "type": "openai",
        "model": "text-embedding-ada-002"
    },
    "MiniLM": {
        "type": "sbert",
        "model": "all-MiniLM-L6-v2"
    },
    "BGE Base": {
        "type": "sbert",
        "model": "BAAI/bge-base-en-v1.5"
    },
    "E5 Base": {
        "type": "sbert",
        "model": "intfloat/e5-base"
    },
    "E5 Large": {
        "type": "sbert",
        "model": "intfloat/e5-large"
    }
    "Snowflake": {
        "type": "sbert",
        "model": "snowflake-arctic-embed-l-v2.0"
    }
}



load_dotenv()


OPEN_AI_API_KEY = os.getenv("OPENAI_API_KEY")



openai.api_key = OPEN_AI_API_KEY



sbert_models = {}
for name, config in models.items():
    if config["type"] == "sbert":
        sbert_models[name] = SentenceTransformer(config["model"])

results = []
for name, config in models.items():
    print(f"🔍 Testowanie modelu: {name}")
    start_time = time.time()
    
    if config["type"] == "openai":
        response = openai.embeddings.create(
            input=[text],
            model=config["model"]
        )
        embedding = response.data[0].embedding
    else:
        model = sbert_models[name]
        if "e5" in config["model"]:
            text_to_encode = f"query: {text}"
        else:
            text_to_encode = text
        embedding = model.encode(text_to_encode, convert_to_numpy=True)
    
    end_time = time.time()
    elapsed = end_time - start_time
    dim = len(embedding)
    
    results.append({
        "Model": name,
        "Dimension": dim,
        "Time (s)": round(elapsed, 4)
    })


df = pd.DataFrame(results)
df.sort_values("Time (s)", inplace=True)
df.reset_index(drop=True, inplace=True)
df.style.bar(subset=["Time (s)"], color="#5fba7d").set_caption("⏱️ Porównanie embeddingów")
